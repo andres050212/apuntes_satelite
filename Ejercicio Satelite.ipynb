{
 "cells": [
  {
   "cell_type": "markdown",
   "metadata": {},
   "source": [
    "Ejercicio:\n",
    "-Satélite orbitando la Tierra.\n",
    " (1) Calcule la altura sobre la superficie (h) terrestre a la que debe estar un satélite que órbita la Tierra con período T.\n",
    " (2) Escriba un programa que estime h a partir de un período dado.\n",
    " (3) Estime la altura para un T de un día (geosincrónico), 90 min y 45 min\n",
    " (4) Técnicamente, el período T de un sátelite geosincrónico  es por día sideral (23.93 h). Cuánta es la diferencia en h?"
   ]
  },
  {
   "cell_type": "markdown",
   "metadata": {},
   "source": [
    "1 Para solución del primer punto vamos hacer uso de la ecuación de \"Fuerza Centripeta\" de un movimiento circular uniforme, debido a que es una aproximación de la trayectoria que recorre el satelite alrededor de la tierra. Por otro lado haremos uso de la ecuación de \"Gravitación Universal\", las cuales están represetadas matematicamente de la siguiente manera:"
   ]
  },
  {
   "cell_type": "markdown",
   "metadata": {},
   "source": [
    "                                                    Fuerza Centripeta\n",
    "\\begin{equation}\\label{Fuerza Centripeta}\n",
    "F_c=\\frac{mv²}{r}\n",
    "\\end{equation}\n"
   ]
  },
  {
   "cell_type": "markdown",
   "metadata": {},
   "source": [
    "                                                Fuerza Gravitación Universal\n",
    "\\begin{equation}\\label{Fuerza Gravitación Universal}\n",
    "F_g = \\frac{GMm}{r²}\n",
    "\\end{equation}\n"
   ]
  },
  {
   "cell_type": "markdown",
   "metadata": {},
   "source": [
    "Con estas 2 ecuaciones ya definidas, las igualamos y despejamos \"r\", quedando como resultado la siguiente expresión:\n",
    "\\begin{equation}\\label{eq:ej}\n",
    "r = \\left(\\frac{T²GM}{4π²}\\right)^{\\frac{1}{3}}\n",
    "\\end{equation}\n",
    "La ecuación anterior da solución al primer punto."
   ]
  },
  {
   "cell_type": "markdown",
   "metadata": {},
   "source": [
    "2 El siguiente código nos informa la altura, partiendo un periodo dado."
   ]
  },
  {
   "cell_type": "code",
   "execution_count": 1,
   "metadata": {},
   "outputs": [
    {
     "name": "stdout",
     "output_type": "stream",
     "text": [
      "Ingrese el valor de T: 86400\n",
      "El valor de h es:  35855844.34638021 m\n"
     ]
    }
   ],
   "source": [
    "M = 5.97e24   \n",
    "G = 6.67e-11\n",
    "Rt = 6371000\n",
    "T = float(input(\"Ingrese el valor de T: \"))\n",
    "h = (((T**2)*G*M)/(4*((3.1416)**2)))**(1/3)\n",
    "print (\"El valor de h es: \",h-Rt, \"m\")"
   ]
  },
  {
   "cell_type": "markdown",
   "metadata": {},
   "source": [
    "3 Con ayuda del código anterior procedemos a calcular la altura para un periodo de 90 min (5400 s) y 45 min \n"
   ]
  },
  {
   "cell_type": "code",
   "execution_count": null,
   "metadata": {},
   "outputs": [],
   "source": [
    "Altura con periodo de 5400 s"
   ]
  },
  {
   "cell_type": "code",
   "execution_count": 2,
   "metadata": {},
   "outputs": [
    {
     "name": "stdout",
     "output_type": "stream",
     "text": [
      "Ingrese el valor de T: 5400\n",
      "El valor de h es:  279311.257829844 m\n"
     ]
    }
   ],
   "source": [
    "M = 5.97e24   \n",
    "G = 6.67e-11\n",
    "Rt = 6371000\n",
    "T = float(input(\"Ingrese el valor de T: \"))\n",
    "h = (((T**2)*G*M)/(4*((3.1416)**2)))**(1/3)\n",
    "print (\"El valor de h es: \",h-Rt, \"m\")"
   ]
  },
  {
   "cell_type": "code",
   "execution_count": null,
   "metadata": {},
   "outputs": [],
   "source": [
    "Altura con periodo de 2700 s"
   ]
  },
  {
   "cell_type": "code",
   "execution_count": 3,
   "metadata": {},
   "outputs": [
    {
     "name": "stdout",
     "output_type": "stream",
     "text": [
      "Ingrese el valor de T: 2700\n",
      "El valor de h es:  -2181566.428953664 m\n"
     ]
    }
   ],
   "source": [
    "M = 5.97e24   \n",
    "G = 6.67e-11\n",
    "Rt = 6371000\n",
    "T = float(input(\"Ingrese el valor de T: \"))\n",
    "h = (((T**2)*G*M)/(4*((3.1416)**2)))**(1/3)\n",
    "print (\"El valor de h es: \",h-Rt, \"m\")"
   ]
  },
  {
   "cell_type": "markdown",
   "metadata": {},
   "source": [
    "4 Para encontrar la diferencia con un día sideral de 23.93 h, vamos a ejecutar el código con ese valor de periodo y lo comparamos con el resultado de la ejecución del codigo con periodo de 86400 s, de esta forma encontraremos la diferencia."
   ]
  },
  {
   "cell_type": "code",
   "execution_count": 4,
   "metadata": {},
   "outputs": [
    {
     "name": "stdout",
     "output_type": "stream",
     "text": [
      "Ingrese el valor de T: 86148\n",
      "El valor de h es:  35773696.62816557 m\n"
     ]
    }
   ],
   "source": [
    "M = 5.97e24   \n",
    "G = 6.67e-11\n",
    "Rt = 6371000\n",
    "T = float(input(\"Ingrese el valor de T: \"))\n",
    "h = (((T**2)*G*M)/(4*((3.1416)**2)))**(1/3)\n",
    "print (\"El valor de h es: \",h-Rt, \"m\")"
   ]
  },
  {
   "cell_type": "code",
   "execution_count": null,
   "metadata": {},
   "outputs": [],
   "source": [
    "La diferencia es de \n",
    "    82147.718215 m"
   ]
  }
 ],
 "metadata": {
  "kernelspec": {
   "display_name": "Python 3",
   "language": "python",
   "name": "python3"
  },
  "language_info": {
   "codemirror_mode": {
    "name": "ipython",
    "version": 3
   },
   "file_extension": ".py",
   "mimetype": "text/x-python",
   "name": "python",
   "nbconvert_exporter": "python",
   "pygments_lexer": "ipython3",
   "version": "3.7.3"
  }
 },
 "nbformat": 4,
 "nbformat_minor": 2
}
